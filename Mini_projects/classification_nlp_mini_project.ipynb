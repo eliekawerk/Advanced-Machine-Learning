{
 "cells": [
  {
   "cell_type": "markdown",
   "metadata": {
    "colab_type": "text",
    "id": "ZK-nQty3Rh3Z"
   },
   "source": [
    "# Description of task\n",
    "- This is a classification task. \n",
    "- In the given data, train.tsv and test.tsv are used for training and testing respectively. The training data is tab sepearted with a label and tokenized sequential data. For example, the tokenized data wr4pi, pze1d, etc.. are actually words of a text document. \n",
    "- Each token is a length of 5 (alpha-numeric letters).\n",
    "- Build your model in this jupyter notebook and submit your prediction results as a csv file along with this notebook\n",
    "- Try to use PEP 8 style guide."
   ]
  },
  {
   "cell_type": "markdown",
   "metadata": {
    "colab_type": "text",
    "id": "QAuT4c1ORh3b"
   },
   "source": [
    "## Prepare the data. (0pts)"
   ]
  },
  {
   "cell_type": "markdown",
   "metadata": {
    "colab_type": "text",
    "id": "sErVn6FDVvII"
   },
   "source": [
    "### Load data \n",
    "\n",
    "Let us load the training datatset first.\n"
   ]
  },
  {
   "cell_type": "code",
   "execution_count": null,
   "metadata": {
    "colab": {},
    "colab_type": "code",
    "id": "EsOFSK3NRh3d"
   },
   "outputs": [],
   "source": [
    "import pandas as pd\n",
    "\n",
    "data = pd.read_csv(\"train.tsv\", sep=\"\\t\", header=None, names=[\"Label\", \"Sequence\"])"
   ]
  },
  {
   "cell_type": "code",
   "execution_count": 2,
   "metadata": {
    "colab": {
     "base_uri": "https://localhost:8080/",
     "height": 204
    },
    "colab_type": "code",
    "id": "B7A9Z3NBYURy",
    "outputId": "b218919f-e490-4547-ec3f-8e36a5ae4877"
   },
   "outputs": [
    {
     "data": {
      "text/html": [
       "<div>\n",
       "<style scoped>\n",
       "    .dataframe tbody tr th:only-of-type {\n",
       "        vertical-align: middle;\n",
       "    }\n",
       "\n",
       "    .dataframe tbody tr th {\n",
       "        vertical-align: top;\n",
       "    }\n",
       "\n",
       "    .dataframe thead th {\n",
       "        text-align: right;\n",
       "    }\n",
       "</style>\n",
       "<table border=\"1\" class=\"dataframe\">\n",
       "  <thead>\n",
       "    <tr style=\"text-align: right;\">\n",
       "      <th></th>\n",
       "      <th>Label</th>\n",
       "      <th>Sequence</th>\n",
       "    </tr>\n",
       "  </thead>\n",
       "  <tbody>\n",
       "    <tr>\n",
       "      <th>0</th>\n",
       "      <td>3</td>\n",
       "      <td>wr4pi,pze1d,wkgwb,wr4pi,icxv0,v3b1x,l2mlx,xmdc...</td>\n",
       "    </tr>\n",
       "    <tr>\n",
       "      <th>1</th>\n",
       "      <td>1</td>\n",
       "      <td>aexn0,wgnih,p0ihu,hqm7o,tyz3h,4z35e,dv288,s7zf...</td>\n",
       "    </tr>\n",
       "    <tr>\n",
       "      <th>2</th>\n",
       "      <td>3</td>\n",
       "      <td>iudv7,qnzig,tb8xk,u61fl,abm4n,uwewq,wyss6,jpap...</td>\n",
       "    </tr>\n",
       "    <tr>\n",
       "      <th>3</th>\n",
       "      <td>3</td>\n",
       "      <td>37n9r,m4jp6,2koue,52d37,76axn,cayhm,wyss6,n6tt...</td>\n",
       "    </tr>\n",
       "    <tr>\n",
       "      <th>4</th>\n",
       "      <td>2</td>\n",
       "      <td>aeqbu,x51ab,52d37,ak17t,9lccc,gq8g5,vorz2,pnvf...</td>\n",
       "    </tr>\n",
       "  </tbody>\n",
       "</table>\n",
       "</div>"
      ],
      "text/plain": [
       "   Label                                           Sequence\n",
       "0      3  wr4pi,pze1d,wkgwb,wr4pi,icxv0,v3b1x,l2mlx,xmdc...\n",
       "1      1  aexn0,wgnih,p0ihu,hqm7o,tyz3h,4z35e,dv288,s7zf...\n",
       "2      3  iudv7,qnzig,tb8xk,u61fl,abm4n,uwewq,wyss6,jpap...\n",
       "3      3  37n9r,m4jp6,2koue,52d37,76axn,cayhm,wyss6,n6tt...\n",
       "4      2  aeqbu,x51ab,52d37,ak17t,9lccc,gq8g5,vorz2,pnvf..."
      ]
     },
     "execution_count": 2,
     "metadata": {
      "tags": []
     },
     "output_type": "execute_result"
    }
   ],
   "source": [
    "data.head()"
   ]
  },
  {
   "cell_type": "code",
   "execution_count": 3,
   "metadata": {
    "colab": {
     "base_uri": "https://localhost:8080/",
     "height": 34
    },
    "colab_type": "code",
    "id": "G6MjVYSEYiY7",
    "outputId": "83cb417b-22a8-4354-b6d4-53f9f6fdecf0"
   },
   "outputs": [
    {
     "data": {
      "text/plain": [
       "(63799, 2)"
      ]
     },
     "execution_count": 3,
     "metadata": {
      "tags": []
     },
     "output_type": "execute_result"
    }
   ],
   "source": [
    "data.shape"
   ]
  },
  {
   "cell_type": "markdown",
   "metadata": {
    "colab_type": "text",
    "id": "sYosEgP4azMa"
   },
   "source": [
    "## EDA (15pts)"
   ]
  },
  {
   "cell_type": "markdown",
   "metadata": {
    "colab_type": "text",
    "id": "ZXq-M8MpZpo4"
   },
   "source": [
    "Find unique Labels and their distribution. "
   ]
  },
  {
   "cell_type": "code",
   "execution_count": 4,
   "metadata": {
    "colab": {
     "base_uri": "https://localhost:8080/",
     "height": 34
    },
    "colab_type": "code",
    "id": "x11q1vwvW2q7",
    "outputId": "dfcd3592-cba8-4098-a224-9f1febb2928a"
   },
   "outputs": [
    {
     "data": {
      "text/plain": [
       "array([3, 1, 2, 4])"
      ]
     },
     "execution_count": 4,
     "metadata": {
      "tags": []
     },
     "output_type": "execute_result"
    }
   ],
   "source": [
    "data['Label'].unique()"
   ]
  },
  {
   "cell_type": "code",
   "execution_count": 5,
   "metadata": {
    "colab": {
     "base_uri": "https://localhost:8080/",
     "height": 286
    },
    "colab_type": "code",
    "id": "73N_lwmYaiiL",
    "outputId": "7632e304-e63a-47fa-f654-53b2464b3ce9"
   },
   "outputs": [
    {
     "data": {
      "text/plain": [
       "<matplotlib.axes._subplots.AxesSubplot at 0x7f6792933da0>"
      ]
     },
     "execution_count": 5,
     "metadata": {
      "tags": []
     },
     "output_type": "execute_result"
    },
    {
     "data": {
      "image/png": "[encoded data removed]",
      "text/plain": [
       "<Figure size 432x288 with 1 Axes>"
      ]
     },
     "metadata": {
      "tags": []
     },
     "output_type": "display_data"
    }
   ],
   "source": [
    "data['Label'].hist()"
   ]
  },
  {
   "cell_type": "markdown",
   "metadata": {
    "colab_type": "text",
    "id": "qnCAb6Ntg71g"
   },
   "source": [
    "For information, the classes are not balanced but for building a baseline we will not get interested in balancing classes at this stage (maybe it will be one of ways to improve the performance)."
   ]
  },
  {
   "cell_type": "markdown",
   "metadata": {
    "colab_type": "text",
    "id": "_kh5PwahbFsU"
   },
   "source": [
    "Let us find the length of each sequence, then plot the distribution of lengths. Also we can look at unique words to understand the vocabulary of our dataset.\n"
   ]
  },
  {
   "cell_type": "code",
   "execution_count": null,
   "metadata": {
    "colab": {},
    "colab_type": "code",
    "id": "5zNUDJHqa4DA"
   },
   "outputs": [],
   "source": [
    "len_seq = []\n",
    "vocabulary = []\n",
    "\n",
    "for i in range(data.shape[0]):\n",
    "\n",
    "    tokens = data[\"Sequence\"][i].split(\",\")\n",
    "    len_seq.append(len(tokens))\n",
    "    vocabulary.append(tokens)\n",
    "\n",
    "assert len(len_seq) == data.shape[0]"
   ]
  },
  {
   "cell_type": "code",
   "execution_count": 7,
   "metadata": {
    "colab": {
     "base_uri": "https://localhost:8080/",
     "height": 295
    },
    "colab_type": "code",
    "id": "Sjbc_jSbd8nI",
    "outputId": "d71dbc26-8956-4598-a8c8-b89a971211be"
   },
   "outputs": [
    {
     "data": {
      "image/png": "[encoded data removed]",
      "text/plain": [
       "<Figure size 432x288 with 1 Axes>"
      ]
     },
     "metadata": {
      "tags": []
     },
     "output_type": "display_data"
    }
   ],
   "source": [
    "import numpy as np\n",
    "import matplotlib.pyplot as plt\n",
    "\n",
    "\n",
    "# the histogram of the data\n",
    "n, bins, patches = plt.hist(len_seq, 50, density=False, facecolor=\"g\", alpha=0.75)\n",
    "\n",
    "\n",
    "plt.xlabel(\"Len of a sentence\")\n",
    "plt.ylabel(\"Fequence\")\n",
    "plt.title(\"Distribution of Length of sequences\")\n",
    "plt.xlim(0, 140)\n",
    "plt.grid(True)\n",
    "plt.show()"
   ]
  },
  {
   "cell_type": "markdown",
   "metadata": {
    "colab_type": "text",
    "id": "bF8YmWdNjNrm"
   },
   "source": [
    "Let us compute the unique tokens in our dataset. I will be converting the vocabulary (list of lists) into a numpy array for better performance in manupaliting arrays.\n"
   ]
  },
  {
   "cell_type": "code",
   "execution_count": null,
   "metadata": {
    "colab": {},
    "colab_type": "code",
    "id": "XDaBQq_6kWfj"
   },
   "outputs": [],
   "source": [
    "all_tokens = np.hstack(vocabulary)"
   ]
  },
  {
   "cell_type": "code",
   "execution_count": 9,
   "metadata": {
    "colab": {
     "base_uri": "https://localhost:8080/",
     "height": 51
    },
    "colab_type": "code",
    "id": "5UItFQCHjhz5",
    "outputId": "910f2205-62a0-4130-a434-423cfb866780"
   },
   "outputs": [
    {
     "name": "stdout",
     "output_type": "stream",
     "text": [
      "total number of tokens in training: 2853679\n",
      "unique tokens: 65810\n"
     ]
    }
   ],
   "source": [
    "print('total number of tokens in training:', len(all_tokens))\n",
    "print('unique tokens:', len(np.unique(all_tokens)))"
   ]
  },
  {
   "cell_type": "markdown",
   "metadata": {
    "colab_type": "text",
    "id": "LZbMHsZ-gna9"
   },
   "source": [
    "We are facing a 'topic classification' classification problem, where the input is a sequence of words and we have to predict the the associated class. Also from the description of the task, it confirms that the data is a sequence of 5-char tokens, so it is not needed in the direction of data cleaning. \n",
    "\n"
   ]
  },
  {
   "cell_type": "markdown",
   "metadata": {
    "colab_type": "text",
    "id": "WQ5s1Y46Rh3t"
   },
   "source": [
    "## Split labelled data into training and validation data set. Then build your model from training data and evaluate your prediction on validation data using suitable metric. (15 pts)"
   ]
  },
  {
   "cell_type": "markdown",
   "metadata": {
    "colab_type": "text",
    "id": "j5hQ1GMa0-CZ"
   },
   "source": [
    "### 1 - Split data to training and valdiation\n",
    "\n",
    "NB : Usually, we should have a 3rd split of the dataset that we will never use during training/validation, and will be used only once the construction of the model is done. This 'testing' dataset can confirm that performances of the model is preserved on unseen data. For simplicity, we ommited this 3 splits, and we will only use training/validation split."
   ]
  },
  {
   "cell_type": "code",
   "execution_count": null,
   "metadata": {
    "colab": {},
    "colab_type": "code",
    "id": "IUoQwVEsRh3u"
   },
   "outputs": [],
   "source": [
    "from sklearn.model_selection import train_test_split\n",
    "\n",
    "# 20% for validation\n",
    "train, validation = train_test_split(data, test_size=0.20, random_state = 666)"
   ]
  },
  {
   "cell_type": "code",
   "execution_count": null,
   "metadata": {
    "colab": {},
    "colab_type": "code",
    "id": "UQTswGvUrvHx"
   },
   "outputs": [],
   "source": [
    "# Get numpy array to represent each observation\n",
    "# we also replace ',' by ' ' for compatibility to use Sklearn algos\n",
    "\n",
    "x_train = train['Sequence'].replace(',', ' ', regex=True).values\n",
    "y_train = train['Label'].values\n",
    "\n",
    "x_val = validation['Sequence'].replace(',', ' ', regex=True).values\n",
    "y_val= validation['Label'].values"
   ]
  },
  {
   "cell_type": "markdown",
   "metadata": {
    "colab_type": "text",
    "id": "IjLRGeQR1D7V"
   },
   "source": [
    "### 2 - Build a simple model"
   ]
  },
  {
   "cell_type": "markdown",
   "metadata": {
    "colab_type": "text",
    "id": "G8lCsqlbUYPC"
   },
   "source": [
    "As a first step, I will be using TF-IDF (https://en.wikipedia.org/wiki/Tf–idf) and a logistic regression to build a text classifier. TfidfVectorizer convert a collection of raw documents to a matrix of TF-IDF features."
   ]
  },
  {
   "cell_type": "code",
   "execution_count": null,
   "metadata": {
    "colab": {},
    "colab_type": "code",
    "id": "648gVvS8uxNE"
   },
   "outputs": [],
   "source": [
    "# Define model \n",
    "\n",
    "from sklearn.feature_extraction.text import TfidfVectorizer\n",
    "from sklearn.linear_model import LogisticRegression\n",
    "from sklearn.pipeline import make_pipeline\n",
    "\n",
    "\n",
    "text_classifier = make_pipeline(\n",
    "    TfidfVectorizer(min_df=3, max_df=0.8, ngram_range=(1, 2)),\n",
    "    LogisticRegression(multi_class = 'auto', random_state=0),\n",
    ")"
   ]
  },
  {
   "cell_type": "code",
   "execution_count": 13,
   "metadata": {
    "colab": {
     "base_uri": "https://localhost:8080/",
     "height": 131
    },
    "colab_type": "code",
    "id": "-Vc2CRwguxPd",
    "outputId": "8a41e2ac-33ad-4e26-d9db-f212fc4d5457"
   },
   "outputs": [
    {
     "name": "stderr",
     "output_type": "stream",
     "text": [
      "/usr/local/lib/python3.6/dist-packages/sklearn/linear_model/logistic.py:432: FutureWarning: Default solver will be changed to 'lbfgs' in 0.22. Specify a solver to silence this warning.\n",
      "  FutureWarning)\n"
     ]
    },
    {
     "name": "stdout",
     "output_type": "stream",
     "text": [
      "CPU times: user 15.6 s, sys: 5.47 s, total: 21.1 s\n",
      "Wall time: 14.1 s\n"
     ]
    }
   ],
   "source": [
    "%%time\n",
    "# fit the model\n",
    "_ = text_classifier.fit(x_train, y_train)"
   ]
  },
  {
   "cell_type": "code",
   "execution_count": 14,
   "metadata": {
    "colab": {
     "base_uri": "https://localhost:8080/",
     "height": 499
    },
    "colab_type": "code",
    "id": "IVb8-YrixxzH",
    "outputId": "6a8d04f9-6030-42e6-ad9d-68b944e015d9"
   },
   "outputs": [
    {
     "name": "stdout",
     "output_type": "stream",
     "text": [
      "              precision    recall  f1-score   support\n",
      "\n",
      "           1       0.93      0.84      0.89      1924\n",
      "           2       0.95      0.98      0.96      2896\n",
      "           3       0.90      0.95      0.92      5709\n",
      "           4       0.87      0.80      0.83      2231\n",
      "\n",
      "    accuracy                           0.91     12760\n",
      "   macro avg       0.91      0.89      0.90     12760\n",
      "weighted avg       0.91      0.91      0.91     12760\n",
      "\n",
      "F1-score: 0.901\n"
     ]
    },
    {
     "data": {
      "image/png": "[encoded data removed]",
      "text/plain": [
       "<Figure size 432x288 with 2 Axes>"
      ]
     },
     "metadata": {
      "tags": []
     },
     "output_type": "display_data"
    }
   ],
   "source": [
    "\n",
    "from sklearn import metrics\n",
    "import seaborn as sn\n",
    "# Do prediction on validation dataset using trained model\n",
    "predicted_val = text_classifier.predict(x_val)\n",
    "\n",
    "\n",
    "# Compute metrics \n",
    "print(metrics.classification_report(y_val, predicted_val))\n",
    "print('F1-score: %.3f' % metrics.f1_score(y_val, predicted_val, average = 'macro'))\n",
    "\n",
    "df_m = metrics.confusion_matrix(y_val, predicted_val)\n",
    "ax= plt.subplot()\n",
    "sn.set(font_scale=1)#for label size\n",
    "sn.heatmap(df_m, cmap='Oranges', annot=True)# font size\n",
    "ax.set_xlabel('Predicted labels')\n",
    "ax.set_ylabel('True labels')\n",
    "ax.set_title('Confusion Matrix')\n",
    "ax.xaxis.set_ticklabels(text_classifier.classes_); ax.yaxis.set_ticklabels(text_classifier.classes_)\n",
    "plt.show()\n"
   ]
  },
  {
   "cell_type": "markdown",
   "metadata": {
    "colab_type": "text",
    "id": "X9cQ8GGIA17l"
   },
   "source": [
    "### 3 - Model Search"
   ]
  },
  {
   "cell_type": "markdown",
   "metadata": {
    "colab_type": "text",
    "id": "N1x_WxfP030h"
   },
   "source": [
    "Now we have a simple model, Let us first try to see other ML models performance and on which one we have to focus. \n",
    "In the following plot, we will only observe the training accuracy to give us a hint about the ML model to choose for later analysis. \n",
    "\n",
    "- Do TF-IDF : \n"
   ]
  },
  {
   "cell_type": "code",
   "execution_count": null,
   "metadata": {
    "colab": {},
    "colab_type": "code",
    "id": "lxdtT148y59F"
   },
   "outputs": [],
   "source": [
    "# Define transformer \n",
    "tf = TfidfVectorizer(min_df=3, max_df=0.8, ngram_range=(1, 2))\n",
    "\n",
    "# Fit and transform of training data \n",
    "x_tf = tf.fit_transform(x_train)\n",
    "x_val_tf = tf.transform(x_val)\n"
   ]
  },
  {
   "cell_type": "markdown",
   "metadata": {
    "colab_type": "text",
    "id": "JoqW6ekUzJV9"
   },
   "source": [
    "- Then we define a list of models and do 5-cross-validation using each model and plot the perofmance only on training dataset(this is a time consuming task)"
   ]
  },
  {
   "cell_type": "code",
   "execution_count": null,
   "metadata": {
    "colab": {},
    "colab_type": "code",
    "id": "sWF3o7m4yr9Q"
   },
   "outputs": [],
   "source": [
    "from sklearn.linear_model import LogisticRegression\n",
    "from sklearn.ensemble import RandomForestClassifier\n",
    "from sklearn.svm import LinearSVC\n",
    "from sklearn.model_selection import cross_val_score\n",
    "from sklearn.naive_bayes import MultinomialNB\n",
    "import seaborn as sns\n",
    "\n",
    "# Define a list of models\n",
    "models = [\n",
    "    RandomForestClassifier(n_estimators=200, max_depth=10, random_state=0),\n",
    "    LinearSVC(),\n",
    "    MultinomialNB(),\n",
    "    LogisticRegression(random_state=0),\n",
    "]\n",
    "\n",
    "# Nb of Cross Validation\n",
    "CV = 5\n",
    "cv_df = pd.DataFrame(index=range(CV * len(models)))\n",
    "entries = []\n",
    "\n",
    "# Fir models\n",
    "for model in models:\n",
    "    model_name = model.__class__.__name__\n",
    "    accuracies = cross_val_score(\n",
    "        model, x_tf, y_train, scoring=\"accuracy\", cv=CV, n_jobs=-1\n",
    "    )\n",
    "    # Save accuracy/model_name\n",
    "    for fold_idx, accuracy in enumerate(accuracies):\n",
    "        entries.append((model_name, fold_idx, accuracy))\n"
   ]
  },
  {
   "cell_type": "code",
   "execution_count": 17,
   "metadata": {
    "colab": {
     "base_uri": "https://localhost:8080/",
     "height": 617
    },
    "colab_type": "code",
    "id": "ps0uAsHq6o0Z",
    "outputId": "aac9f76f-c139-4d18-9999-e5bda0fdea91"
   },
   "outputs": [
    {
     "data": {
      "image/png": "[encoded data removed]",
      "text/plain": [
       "<Figure size 1080x720 with 1 Axes>"
      ]
     },
     "metadata": {
      "tags": []
     },
     "output_type": "display_data"
    }
   ],
   "source": [
    "# Plot the accuracy (on trainign!) for each model\n",
    "cv_df = pd.DataFrame(entries, columns=[\"model_name\", \"fold_idx\", \"accuracy\"])\n",
    "plt.figure(figsize=(15, 10))\n",
    "sns.boxplot(x=\"model_name\", y=\"accuracy\", data=cv_df)\n",
    "sns.stripplot(\n",
    "    x=\"model_name\",\n",
    "    y=\"accuracy\",\n",
    "    data=cv_df,\n",
    "    size=8,\n",
    "    jitter=True,\n",
    "    edgecolor=\"gray\",\n",
    "    linewidth=2,\n",
    ")\n",
    "plt.show()"
   ]
  },
  {
   "cell_type": "markdown",
   "metadata": {
    "colab_type": "text",
    "id": "mafTtmPNzurM"
   },
   "source": [
    "-  Conclusion : \n",
    "\n",
    "It seems that LinearSVC is a promising model. We will focus on this model in the following section. let us re-train this model on the training dataset and observe different metrics on the validation dataset."
   ]
  },
  {
   "cell_type": "code",
   "execution_count": 18,
   "metadata": {
    "colab": {
     "base_uri": "https://localhost:8080/",
     "height": 505
    },
    "colab_type": "code",
    "id": "UlcQgkv-6ThM",
    "outputId": "c09242bb-f270-4030-c7de-a919e58a3462"
   },
   "outputs": [
    {
     "name": "stdout",
     "output_type": "stream",
     "text": [
      "              precision    recall  f1-score   support\n",
      "\n",
      "           1       0.92      0.87      0.89      1924\n",
      "           2       0.96      0.99      0.97      2896\n",
      "           3       0.92      0.94      0.93      5709\n",
      "           4       0.86      0.83      0.85      2231\n",
      "\n",
      "    accuracy                           0.92     12760\n",
      "   macro avg       0.92      0.91      0.91     12760\n",
      "weighted avg       0.92      0.92      0.92     12760\n",
      "\n",
      "F1-score: 0.910\n"
     ]
    },
    {
     "data": {
      "image/png": "[encoded data removed]",
      "text/plain": [
       "<Figure size 432x288 with 2 Axes>"
      ]
     },
     "metadata": {
      "tags": []
     },
     "output_type": "display_data"
    }
   ],
   "source": [
    "# Train SVC and evaluate on validation data\n",
    "\n",
    "from sklearn import metrics\n",
    "\n",
    "# Define model\n",
    "text_clf = make_pipeline(\n",
    "    LinearSVC(random_state = 666),\n",
    ")\n",
    "\n",
    "\n",
    "# Train model \n",
    "_ = text_clf.fit(x_tf, y_train)\n",
    "\n",
    "# Do prediction on validation dataset \n",
    "predicted_val = text_clf.predict(x_val_tf)\n",
    "\n",
    "\n",
    "# Compute metrics on validation set\n",
    "print(metrics.classification_report(y_val, predicted_val))\n",
    "print('F1-score: %.3f' % metrics.f1_score(y_val, predicted_val, average = 'macro'))\n",
    "\n",
    "df_m = metrics.confusion_matrix(y_val, predicted_val)\n",
    "ax= plt.subplot()\n",
    "sn.set(font_scale=1)#for label size\n",
    "sn.heatmap(df_m, cmap='Oranges', annot=True)# font size\n",
    "ax.set_xlabel('Predicted labels')\n",
    "ax.set_ylabel('True labels')\n",
    "ax.set_title('Confusion Matrix')\n",
    "ax.xaxis.set_ticklabels(text_clf.classes_); ax.yaxis.set_ticklabels(text_clf.classes_);\n"
   ]
  },
  {
   "cell_type": "markdown",
   "metadata": {
    "colab_type": "text",
    "id": "uHMNA03j0DC8"
   },
   "source": [
    "The perfomance (accuracy, recall and f1 score) on the validation dataset seems to be good. In the context of multi-class classification we will focus on the **f1 score** as it combines recall/precision in one metric. "
   ]
  },
  {
   "cell_type": "markdown",
   "metadata": {
    "colab_type": "text",
    "id": "tm-1zTVr0VFm"
   },
   "source": [
    "### 4 - Parameter Search for SVM\n",
    "\n",
    "In the next section we will try to do some parameter search for the choosen algorithm. "
   ]
  },
  {
   "cell_type": "markdown",
   "metadata": {
    "colab_type": "text",
    "id": "YNx0Xg9vayi_"
   },
   "source": [
    "Hyperparameter search for SVM. We will focus on the parameter C (Penalty parameter of the error term) of the SVM algorithm. In a more elaborated approach we could have fine-tuned other parameters and also use other hyper-parameter tuning methods (random, or Bayesian optimization)."
   ]
  },
  {
   "cell_type": "code",
   "execution_count": 19,
   "metadata": {
    "colab": {
     "base_uri": "https://localhost:8080/",
     "height": 1000
    },
    "colab_type": "code",
    "id": "08YgZ9TRaxqV",
    "outputId": "69d3e308-9c7a-4ade-c9bb-c5b17668508a"
   },
   "outputs": [
    {
     "name": "stdout",
     "output_type": "stream",
     "text": [
      "# Tuning hyper-parameters for precision\n",
      "Best parameters set found on development set:\n",
      "{'C': 0.5}\n",
      "Grid scores on development set:\n",
      "0.911 (+/-0.010) for {'C': 0.1}\n",
      "0.917 (+/-0.008) for {'C': 0.5}\n",
      "0.916 (+/-0.007) for {'C': 1}\n",
      "0.913 (+/-0.006) for {'C': 2}\n",
      "0.909 (+/-0.008) for {'C': 10}\n",
      "Detailed classification report:\n",
      "The model is trained on the full development set.\n",
      "The scores are computed on the full evaluation set.\n",
      "              precision    recall  f1-score   support\n",
      "\n",
      "           1       0.93      0.86      0.89      1924\n",
      "           2       0.96      0.99      0.97      2896\n",
      "           3       0.92      0.94      0.93      5709\n",
      "           4       0.87      0.83      0.85      2231\n",
      "\n",
      "    accuracy                           0.92     12760\n",
      "   macro avg       0.92      0.91      0.91     12760\n",
      "weighted avg       0.92      0.92      0.92     12760\n",
      "\n",
      "# Tuning hyper-parameters for recall\n",
      "Best parameters set found on development set:\n",
      "{'C': 1}\n",
      "Grid scores on development set:\n",
      "0.888 (+/-0.008) for {'C': 0.1}\n",
      "0.904 (+/-0.007) for {'C': 0.5}\n",
      "0.905 (+/-0.006) for {'C': 1}\n",
      "0.904 (+/-0.006) for {'C': 2}\n",
      "0.901 (+/-0.008) for {'C': 10}\n",
      "Detailed classification report:\n",
      "The model is trained on the full development set.\n",
      "The scores are computed on the full evaluation set.\n",
      "              precision    recall  f1-score   support\n",
      "\n",
      "           1       0.92      0.87      0.89      1924\n",
      "           2       0.96      0.99      0.97      2896\n",
      "           3       0.92      0.94      0.93      5709\n",
      "           4       0.86      0.83      0.85      2231\n",
      "\n",
      "    accuracy                           0.92     12760\n",
      "   macro avg       0.92      0.91      0.91     12760\n",
      "weighted avg       0.92      0.92      0.92     12760\n",
      "\n",
      "# Tuning hyper-parameters for f1\n",
      "Best parameters set found on development set:\n",
      "{'C': 0.5}\n",
      "Grid scores on development set:\n",
      "0.899 (+/-0.009) for {'C': 0.1}\n",
      "0.910 (+/-0.007) for {'C': 0.5}\n",
      "0.910 (+/-0.006) for {'C': 1}\n",
      "0.908 (+/-0.006) for {'C': 2}\n",
      "0.905 (+/-0.008) for {'C': 10}\n",
      "Detailed classification report:\n",
      "The model is trained on the full development set.\n",
      "The scores are computed on the full evaluation set.\n",
      "              precision    recall  f1-score   support\n",
      "\n",
      "           1       0.93      0.86      0.89      1924\n",
      "           2       0.96      0.99      0.97      2896\n",
      "           3       0.92      0.94      0.93      5709\n",
      "           4       0.87      0.83      0.85      2231\n",
      "\n",
      "    accuracy                           0.92     12760\n",
      "   macro avg       0.92      0.91      0.91     12760\n",
      "weighted avg       0.92      0.92      0.92     12760\n",
      "\n"
     ]
    }
   ],
   "source": [
    "from sklearn.model_selection import train_test_split\n",
    "from sklearn.model_selection import GridSearchCV\n",
    "from sklearn.metrics import classification_report\n",
    "\n",
    "# Parameter space\n",
    "tuned_parameters = [{\"C\": [0.1, 0.5, 1, 2, 10]}]\n",
    "\n",
    "\n",
    "scores = [\"precision\", \"recall\", \"f1\"]\n",
    "\n",
    "\n",
    "# Do hyperparameter on multiple metrics\n",
    "for score in scores:\n",
    "    print(\"# Tuning hyper-parameters for %s\" % score)\n",
    "\n",
    "    clf = GridSearchCV(\n",
    "        LinearSVC(random_state=666),\n",
    "        tuned_parameters,\n",
    "        cv=5,\n",
    "        scoring=\"%s_macro\" % score,\n",
    "        n_jobs=-1,\n",
    "    )\n",
    "    clf.fit(x_tf, y_train)\n",
    "\n",
    "    print(\"Best parameters set found on development set:\")\n",
    "\n",
    "    print(clf.best_params_)\n",
    "\n",
    "    print(\"Grid scores on development set:\")\n",
    "\n",
    "    means = clf.cv_results_[\"mean_test_score\"]\n",
    "    stds = clf.cv_results_[\"std_test_score\"]\n",
    "    for mean, std, params in zip(means, stds, clf.cv_results_[\"params\"]):\n",
    "        print(\"%0.3f (+/-%0.03f) for %r\" % (mean, std * 2, params))\n",
    "\n",
    "    print(\"Detailed classification report:\")\n",
    "    print(\"The model is trained on the full development set.\")\n",
    "    print(\"The scores are computed on the full evaluation set.\")\n",
    "\n",
    "    y_true, y_pred = y_val, clf.predict(x_val_tf)\n",
    "    print(classification_report(y_true, y_pred))\n"
   ]
  },
  {
   "cell_type": "markdown",
   "metadata": {
    "colab_type": "text",
    "id": "58MOviPM1uDJ"
   },
   "source": [
    "Based on f1 score, we will choose `{'C': 0.5}`as best parameters for our model. "
   ]
  },
  {
   "cell_type": "code",
   "execution_count": 20,
   "metadata": {
    "colab": {
     "base_uri": "https://localhost:8080/",
     "height": 505
    },
    "colab_type": "code",
    "id": "Fs7hfYC41tdf",
    "outputId": "926c19e8-134f-4336-a321-64d7a1781d3e"
   },
   "outputs": [
    {
     "name": "stdout",
     "output_type": "stream",
     "text": [
      "              precision    recall  f1-score   support\n",
      "\n",
      "           1       0.93      0.86      0.89      1924\n",
      "           2       0.96      0.99      0.97      2896\n",
      "           3       0.92      0.94      0.93      5709\n",
      "           4       0.87      0.83      0.85      2231\n",
      "\n",
      "    accuracy                           0.92     12760\n",
      "   macro avg       0.92      0.91      0.91     12760\n",
      "weighted avg       0.92      0.92      0.92     12760\n",
      "\n",
      "F1-score: 0.912\n"
     ]
    },
    {
     "data": {
      "image/png": "[encoded data removed]",
      "text/plain": [
       "<Figure size 432x288 with 2 Axes>"
      ]
     },
     "metadata": {
      "tags": []
     },
     "output_type": "display_data"
    }
   ],
   "source": [
    "# Train SVC and evaluate on validation data\n",
    "\n",
    "from sklearn import metrics\n",
    "\n",
    "# Define model\n",
    "text_clf = make_pipeline(\n",
    "    LinearSVC(random_state = 666, C=0.5),\n",
    ")\n",
    "\n",
    "\n",
    "# Train model \n",
    "_ = text_clf.fit(x_tf, y_train)\n",
    "\n",
    "# Do prediction on validation dataset \n",
    "predicted_val = text_clf.predict(x_val_tf)\n",
    "\n",
    "\n",
    "# Compute metrics on validation set\n",
    "print(metrics.classification_report(y_val, predicted_val))\n",
    "print('F1-score: %.3f' % metrics.f1_score(y_val, predicted_val, average = 'macro'))\n",
    "\n",
    "df_m = metrics.confusion_matrix(y_val, predicted_val)\n",
    "ax= plt.subplot()\n",
    "sn.set(font_scale=1)#for label size\n",
    "sn.heatmap(df_m, cmap='Oranges', annot=True)# font size\n",
    "ax.set_xlabel('Predicted labels')\n",
    "ax.set_ylabel('True labels')\n",
    "ax.set_title('Confusion Matrix')\n",
    "ax.xaxis.set_ticklabels(text_clf.classes_); ax.yaxis.set_ticklabels(text_clf.classes_);\n",
    "\n"
   ]
  },
  {
   "cell_type": "markdown",
   "metadata": {
    "colab_type": "text",
    "id": "LHRAEvSCA-LR"
   },
   "source": [
    "## Build a prediction model from training data and predict on testing data. (60pts)"
   ]
  },
  {
   "cell_type": "markdown",
   "metadata": {
    "colab_type": "text",
    "id": "ct_qcitF3wdm"
   },
   "source": [
    "### 1 - Train/Build model on whole training dataset"
   ]
  },
  {
   "cell_type": "markdown",
   "metadata": {
    "colab_type": "text",
    "id": "LiBjQiwA7Ex9"
   },
   "source": [
    "In this section, we will use the ML model found earlier `LinearSVC(C=0.5)`to be trained on the whole labeled dataset and we will show metrics from cross-validation training to be sure of the stability of model on the whole dataset. After thta, we will do prediction on the testing dataset and save predictions."
   ]
  },
  {
   "cell_type": "markdown",
   "metadata": {
    "colab_type": "text",
    "id": "m-QNkMAz7eIf"
   },
   "source": [
    "- Train the model: \n",
    "\n",
    "The model is constructed from two blocks : TF-IDF transformer and then the ML algorithm. "
   ]
  },
  {
   "cell_type": "code",
   "execution_count": null,
   "metadata": {
    "colab": {},
    "colab_type": "code",
    "id": "tMG7c8W-9AEG"
   },
   "outputs": [],
   "source": [
    "# Full training dataset\n",
    "\n",
    "x_full_train = data['Sequence'].replace(',', ' ', regex=True).values\n",
    "y_full_train = data['Label'].values\n"
   ]
  },
  {
   "cell_type": "code",
   "execution_count": null,
   "metadata": {
    "colab": {},
    "colab_type": "code",
    "id": "uj5qIkpd7oHI"
   },
   "outputs": [],
   "source": [
    "from sklearn.model_selection import cross_validate\n",
    "\n",
    "# Define the model\n",
    "text_classifier = make_pipeline(\n",
    "    TfidfVectorizer(min_df=3, max_df=0.8, ngram_range=(1, 2)),\n",
    "    LinearSVC(random_state=666, C=0.5),\n",
    ")\n",
    "\n",
    "\n",
    "# Evaluate by cv\n",
    "cv_results = cross_validate(\n",
    "    text_classifier,\n",
    "    x_full_train,\n",
    "    y_full_train,\n",
    "    cv=5,\n",
    "    scoring=[\"precision_macro\", \"recall_macro\", \"accuracy\", \"f1_macro\"],\n",
    ")\n"
   ]
  },
  {
   "cell_type": "code",
   "execution_count": 23,
   "metadata": {
    "colab": {
     "base_uri": "https://localhost:8080/",
     "height": 119
    },
    "colab_type": "code",
    "id": "Ot_NXA3I96e8",
    "outputId": "d8463b67-b901-4ef9-cd38-db512b97e098"
   },
   "outputs": [
    {
     "data": {
      "text/plain": [
       "{'fit_time': array([8.4174161 , 8.35222411, 8.27332735, 8.21521425, 8.20814943]),\n",
       " 'score_time': array([3.85506558, 3.83217382, 3.87636232, 3.84877586, 3.91003656]),\n",
       " 'test_accuracy': array([0.92006896, 0.92068966, 0.92021944, 0.92436711, 0.92334822]),\n",
       " 'test_f1_macro': array([0.90935034, 0.91068517, 0.91060919, 0.9150145 , 0.91346518]),\n",
       " 'test_precision_macro': array([0.91409508, 0.91587295, 0.91613126, 0.92248947, 0.92007808]),\n",
       " 'test_recall_macro': array([0.90515933, 0.90612592, 0.90592963, 0.90864241, 0.90765337])}"
      ]
     },
     "execution_count": 23,
     "metadata": {
      "tags": []
     },
     "output_type": "execute_result"
    }
   ],
   "source": [
    "cv_results"
   ]
  },
  {
   "cell_type": "code",
   "execution_count": null,
   "metadata": {
    "colab": {},
    "colab_type": "code",
    "id": "5BxyGmgD_CFk"
   },
   "outputs": [],
   "source": [
    "# Train on whole dataset\n",
    "_ = text_classifier.fit(x_full_train, y_full_train)\n"
   ]
  },
  {
   "cell_type": "code",
   "execution_count": null,
   "metadata": {
    "colab": {},
    "colab_type": "code",
    "id": "JbmJ9HwHJ-W7"
   },
   "outputs": [],
   "source": [
    "# Save the model to disk\n",
    "import pickle\n",
    "\n",
    "filename = 'model_svc.sav'\n",
    "pickle.dump(text_classifier, open(filename, 'wb'))"
   ]
  },
  {
   "cell_type": "markdown",
   "metadata": {
    "colab_type": "text",
    "id": "F0eLl_ajAUmP"
   },
   "source": [
    "### 2 - Predict on testing dataset"
   ]
  },
  {
   "cell_type": "code",
   "execution_count": null,
   "metadata": {
    "colab": {},
    "colab_type": "code",
    "id": "C2iFE7RoAUIe"
   },
   "outputs": [],
   "source": [
    "# Read data\n",
    "\n",
    "test_data = pd.read_csv('test.tsv', sep='\\t', header=None, names=['Sequence'])"
   ]
  },
  {
   "cell_type": "code",
   "execution_count": 27,
   "metadata": {
    "colab": {
     "base_uri": "https://localhost:8080/",
     "height": 204
    },
    "colab_type": "code",
    "id": "A7sOnhh-BPj4",
    "outputId": "436e708d-8c40-43bf-db17-c3103eb736e5"
   },
   "outputs": [
    {
     "data": {
      "text/html": [
       "<div>\n",
       "<style scoped>\n",
       "    .dataframe tbody tr th:only-of-type {\n",
       "        vertical-align: middle;\n",
       "    }\n",
       "\n",
       "    .dataframe tbody tr th {\n",
       "        vertical-align: top;\n",
       "    }\n",
       "\n",
       "    .dataframe thead th {\n",
       "        text-align: right;\n",
       "    }\n",
       "</style>\n",
       "<table border=\"1\" class=\"dataframe\">\n",
       "  <thead>\n",
       "    <tr style=\"text-align: right;\">\n",
       "      <th></th>\n",
       "      <th>Sequence</th>\n",
       "    </tr>\n",
       "  </thead>\n",
       "  <tbody>\n",
       "    <tr>\n",
       "      <th>0</th>\n",
       "      <td>53jh0,1zqqs,uzlvo,8ak8a,o07v5,j1wvs,wyss6,2mi3...</td>\n",
       "    </tr>\n",
       "    <tr>\n",
       "      <th>1</th>\n",
       "      <td>llmj9,j6sdx,0iv6t,9lccc,1nfii,un3y8,0rbyu,yxos...</td>\n",
       "    </tr>\n",
       "    <tr>\n",
       "      <th>2</th>\n",
       "      <td>iv1zb,hofse,cbjfh,v3b1x,wwnmh,p3569,2boj2,4z35...</td>\n",
       "    </tr>\n",
       "    <tr>\n",
       "      <th>3</th>\n",
       "      <td>0b3kv,j4qdm,sd65k,52d37,5gxco,wcqvi,878l5,wyss...</td>\n",
       "    </tr>\n",
       "    <tr>\n",
       "      <th>4</th>\n",
       "      <td>skjn9,52d37,0fkd7,xc96r,52d37,jl1d9,ueemv,o07v...</td>\n",
       "    </tr>\n",
       "  </tbody>\n",
       "</table>\n",
       "</div>"
      ],
      "text/plain": [
       "                                            Sequence\n",
       "0  53jh0,1zqqs,uzlvo,8ak8a,o07v5,j1wvs,wyss6,2mi3...\n",
       "1  llmj9,j6sdx,0iv6t,9lccc,1nfii,un3y8,0rbyu,yxos...\n",
       "2  iv1zb,hofse,cbjfh,v3b1x,wwnmh,p3569,2boj2,4z35...\n",
       "3  0b3kv,j4qdm,sd65k,52d37,5gxco,wcqvi,878l5,wyss...\n",
       "4  skjn9,52d37,0fkd7,xc96r,52d37,jl1d9,ueemv,o07v..."
      ]
     },
     "execution_count": 27,
     "metadata": {
      "tags": []
     },
     "output_type": "execute_result"
    }
   ],
   "source": [
    "test_data.head()"
   ]
  },
  {
   "cell_type": "code",
   "execution_count": null,
   "metadata": {
    "colab": {},
    "colab_type": "code",
    "id": "59bwSNlHBksm"
   },
   "outputs": [],
   "source": [
    "# Predict\n",
    "x_full_test = test_data['Sequence'].replace(',', ' ', regex=True).values\n",
    "y_test = text_classifier.predict(x_full_test)\n",
    "\n",
    "# Save to CSV\n",
    "test_data['Label'] = y_test\n",
    "test_data.to_csv('test_labeled_svc.csv')\n"
   ]
  },
  {
   "cell_type": "markdown",
   "metadata": {
    "colab_type": "text",
    "id": "1zyfRjMl357x"
   },
   "source": [
    "## Comments on how to improve your result (or prediction model). (10pts)"
   ]
  },
  {
   "cell_type": "markdown",
   "metadata": {
    "colab_type": "text",
    "id": "Hg3gQAtYLPWB"
   },
   "source": [
    "In the previous sections, we have build a machine learning model to classify a sequence of words into 4 classes. There exists many points to improve our results (performance of predictions). Hereunder I will list a non-exaustive list of improvements that we can think about : \n",
    "\n",
    "- Finetune TF-IDF hyperparameters + Dimension reduction/hashing.\n",
    "- Solve the issue of unbalanced classes (by collecting more data, resampling or class_weightening).\n",
    "- Use a better representation of sentences (embedding). For example if we know the language of the sentenceswe can use recent results from BERT to construct a better contextualized embedding.\n",
    "- Finetune other ML models. \n",
    "- Ensembling/stacking of different ML in order to build a better model.\n",
    "- Use some Bayesian approaches to build a level of confidence on predictions. \n",
    "\n",
    "\n",
    "Here is another approach to solve this problem using neural networks and embedding\n"
   ]
  },
  {
   "cell_type": "markdown",
   "metadata": {
    "colab_type": "text",
    "id": "5u0JRlK3_VzV"
   },
   "source": [
    "## Bonus : Deep Learning Approach"
   ]
  },
  {
   "cell_type": "markdown",
   "metadata": {
    "colab_type": "text",
    "id": "Mw-p8G2zCNTm"
   },
   "source": [
    "I believe that simple models are always better, this is the reason why I choosed to work with SVM to construct a baseline. Then we can go futher and explore other approaches. In this section I will present a deep learning approach for this problem. "
   ]
  },
  {
   "cell_type": "markdown",
   "metadata": {
    "colab_type": "text",
    "id": "SecglZunP4CD"
   },
   "source": [
    "- First, we construct a tokenized data with a certain number of words in the vocabulary and maximum length of sentences. From the graph of sentence frequency in the EDA, I choose 100 as the sequence length."
   ]
  },
  {
   "cell_type": "code",
   "execution_count": 29,
   "metadata": {
    "colab": {
     "base_uri": "https://localhost:8080/",
     "height": 85
    },
    "colab_type": "code",
    "id": "z3zbOiJ8_Jft",
    "outputId": "3364cec5-db36-4699-f6fa-4609c3b71e67"
   },
   "outputs": [
    {
     "name": "stderr",
     "output_type": "stream",
     "text": [
      "Using TensorFlow backend.\n"
     ]
    },
    {
     "name": "stdout",
     "output_type": "stream",
     "text": [
      "Found 59552 unique tokens.\n",
      "Shape of data tensor: (51039, 100)\n",
      "Shape of data test tensor: (12760, 100)\n"
     ]
    }
   ],
   "source": [
    "from tensorflow.contrib import keras\n",
    "from keras.preprocessing.text import Tokenizer\n",
    "from keras.preprocessing.sequence import pad_sequences\n",
    "\n",
    "MAX_NB_WORDS = 50000\n",
    "MAX_SEQUENCE_LENGTH = 100\n",
    "\n",
    "\n",
    "# vectorize the text samples into a 2D integer tensor\n",
    "tokenizer = Tokenizer(num_words=MAX_NB_WORDS, char_level=False)\n",
    "tokenizer.fit_on_texts(x_train)\n",
    "sequences = tokenizer.texts_to_sequences(x_train)\n",
    "sequences_test = tokenizer.texts_to_sequences(x_val)\n",
    "\n",
    "word_index = tokenizer.word_index\n",
    "print('Found %s unique tokens.' % len(word_index))\n",
    "\n",
    "# pad sequences with 0s\n",
    "x_train_seq = pad_sequences(sequences, maxlen=MAX_SEQUENCE_LENGTH)\n",
    "x_val_seq = pad_sequences(sequences_test, maxlen=MAX_SEQUENCE_LENGTH)\n",
    "print('Shape of data tensor:', x_train_seq.shape)\n",
    "print('Shape of data test tensor:', x_val_seq.shape)\n",
    "\n"
   ]
  },
  {
   "cell_type": "code",
   "execution_count": null,
   "metadata": {
    "colab": {},
    "colab_type": "code",
    "id": "yhtuoG0jTbvH"
   },
   "outputs": [],
   "source": [
    "# create categorical labels\n",
    "\n",
    "from keras.utils import to_categorical\n",
    "\n",
    "# Using a small hack to avoid issues with nb of classes\n",
    "y_train_cat = to_categorical(y_train-1, num_classes=4)\n",
    "y_val_cat = to_categorical(y_val-1,num_classes=4)"
   ]
  },
  {
   "cell_type": "markdown",
   "metadata": {
    "colab_type": "text",
    "id": "b1E19T2xQdXI"
   },
   "source": [
    "Here we add some metrics to watch during the training. "
   ]
  },
  {
   "cell_type": "code",
   "execution_count": null,
   "metadata": {
    "colab": {},
    "colab_type": "code",
    "id": "s1Pi5EtJS0vp"
   },
   "outputs": [],
   "source": [
    "# Define customized metrics for callback\n",
    "\n",
    "from keras.callbacks import Callback\n",
    "from sklearn.metrics import f1_score, precision_score, recall_score\n",
    "\n",
    "\n",
    "class Metrics(Callback):\n",
    "  def on_train_begin(self, logs={}):\n",
    "    self.val_f1s = []\n",
    "    self.val_recalls = []\n",
    "    self.val_precisions = []\n",
    "\n",
    "  def on_epoch_end(self, epoch, logs={}):\n",
    "    val_predict = (np.asarray(self.model.predict(self.validation_data[0]))).round()\n",
    "    val_targ = self.validation_data[1]\n",
    "    _val_f1 = f1_score(val_targ, val_predict,  average = 'weighted')\n",
    "    _val_recall = recall_score(val_targ, val_predict,  average = 'weighted')\n",
    "    _val_precision = precision_score(val_targ, val_predict,  average = 'weighted')\n",
    "    self.val_f1s.append(_val_f1)\n",
    "    self.val_recalls.append(_val_recall)\n",
    "    self.val_precisions.append(_val_precision)\n",
    "    print(\"— val_f1: %f — val_precision: %f — val_recall %f\" %(_val_f1, _val_precision, _val_recall))"
   ]
  },
  {
   "cell_type": "markdown",
   "metadata": {
    "colab_type": "text",
    "id": "Ap1lyFUAQcfk"
   },
   "source": [
    "- Then we will use the embedding technique (that will be trained during the training process) followed by a two dense layers."
   ]
  },
  {
   "cell_type": "markdown",
   "metadata": {
    "colab_type": "text",
    "id": "HBkpOZwxLpOF"
   },
   "source": [
    "<img src=\"https://i.ibb.co/RHTh0GP/nn.png\" alt=\"nn\" border=\"0\">"
   ]
  },
  {
   "cell_type": "code",
   "execution_count": 33,
   "metadata": {
    "colab": {
     "base_uri": "https://localhost:8080/",
     "height": 323
    },
    "colab_type": "code",
    "id": "wFP2rE-5KqbD",
    "outputId": "3fabcad4-5a3c-478b-c1d2-9c330ab99afb"
   },
   "outputs": [
    {
     "name": "stdout",
     "output_type": "stream",
     "text": [
      "_________________________________________________________________\n",
      "Layer (type)                 Output Shape              Param #   \n",
      "=================================================================\n",
      "embedding_2 (Embedding)      (None, 100, 50)           2500000   \n",
      "_________________________________________________________________\n",
      "global_average_pooling1d_2 ( (None, 50)                0         \n",
      "_________________________________________________________________\n",
      "dense_3 (Dense)              (None, 64)                3264      \n",
      "_________________________________________________________________\n",
      "dropout_2 (Dropout)          (None, 64)                0         \n",
      "_________________________________________________________________\n",
      "dense_4 (Dense)              (None, 4)                 260       \n",
      "=================================================================\n",
      "Total params: 2,503,524\n",
      "Trainable params: 2,503,524\n",
      "Non-trainable params: 0\n",
      "_________________________________________________________________\n",
      "None\n"
     ]
    }
   ],
   "source": [
    "from keras.models import Sequential\n",
    "from keras.layers import (\n",
    "    Dense,\n",
    "    Embedding,\n",
    "    Dropout,\n",
    "    GlobalAveragePooling1D,\n",
    ")\n",
    "from keras import optimizers\n",
    "from keras.callbacks import ModelCheckpoint\n",
    "\n",
    "model = Sequential()\n",
    "model.add(\n",
    "    Embedding(MAX_NB_WORDS, 50, input_length=MAX_SEQUENCE_LENGTH)  # Embedding size\n",
    ")\n",
    "\n",
    "model.add(GlobalAveragePooling1D())\n",
    "model.add(Dense(units=64, activation=\"relu\"))\n",
    "model.add(Dropout(0.2))\n",
    "model.add(Dense(4, activation=\"softmax\"))\n",
    "\n",
    "opt = optimizers.Adamax(lr=0.002, beta_1=0.9, beta_2=0.999, epsilon=None, decay=0.0)\n",
    "\n",
    "# checkpoint\n",
    "metrics = Metrics()\n",
    "# filepath=\"weights-improvement-{epoch:02d}-{val_acc:.2f}.hdf5\"\n",
    "filepath = \"weights.best.hdf5\"\n",
    "\n",
    "checkpoint = ModelCheckpoint(\n",
    "    filepath, monitor=\"val_acc\", verbose=1, save_best_only=True, mode=\"max\"\n",
    ")\n",
    "callbacks_list = [checkpoint, metrics]\n",
    "\n",
    "\n",
    "model.compile(loss=\"categorical_crossentropy\", optimizer=opt, metrics=[\"accuracy\"])\n",
    "print(model.summary())"
   ]
  },
  {
   "cell_type": "code",
   "execution_count": 34,
   "metadata": {
    "colab": {
     "base_uri": "https://localhost:8080/",
     "height": 1000
    },
    "colab_type": "code",
    "id": "fnvDGZBiKsJb",
    "outputId": "19e739cd-7b4f-401f-969f-fffd51336f81"
   },
   "outputs": [
    {
     "name": "stderr",
     "output_type": "stream",
     "text": [
      "W0819 11:39:16.154616 140083436324736 deprecation.py:323] From /usr/local/lib/python3.6/dist-packages/tensorflow/python/ops/math_grad.py:1250: add_dispatch_support.<locals>.wrapper (from tensorflow.python.ops.array_ops) is deprecated and will be removed in a future version.\n",
      "Instructions for updating:\n",
      "Use tf.where in 2.0, which has the same broadcast rule as np.where\n"
     ]
    },
    {
     "name": "stdout",
     "output_type": "stream",
     "text": [
      "Train on 51039 samples, validate on 12760 samples\n",
      "Epoch 1/20\n",
      "51039/51039 [==============================] - 6s 121us/step - loss: 1.0156 - acc: 0.5769 - val_loss: 0.6887 - val_acc: 0.7544\n",
      "\n",
      "Epoch 00001: val_acc improved from -inf to 0.75439, saving model to weights.best.hdf5\n",
      "— val_f1: 0.583901 — val_precision: 0.597431 — val_recall 0.573197\n",
      "Epoch 2/20\n",
      " 4224/51039 [=>............................] - ETA: 1s - loss: 0.6857 - acc: 0.7590"
     ]
    },
    {
     "name": "stderr",
     "output_type": "stream",
     "text": [
      "/usr/local/lib/python3.6/dist-packages/sklearn/metrics/classification.py:1437: UndefinedMetricWarning: F-score is ill-defined and being set to 0.0 in labels with no predicted samples.\n",
      "  'precision', 'predicted', average, warn_for)\n",
      "/usr/local/lib/python3.6/dist-packages/sklearn/metrics/classification.py:1437: UndefinedMetricWarning: Precision is ill-defined and being set to 0.0 in labels with no predicted samples.\n",
      "  'precision', 'predicted', average, warn_for)\n"
     ]
    },
    {
     "name": "stdout",
     "output_type": "stream",
     "text": [
      "51039/51039 [==============================] - 2s 39us/step - loss: 0.5226 - acc: 0.8321 - val_loss: 0.3980 - val_acc: 0.8792\n",
      "\n",
      "Epoch 00002: val_acc improved from 0.75439 to 0.87915, saving model to weights.best.hdf5\n",
      "— val_f1: 0.858085 — val_precision: 0.918605 — val_recall 0.816928\n",
      "Epoch 3/20\n",
      "51039/51039 [==============================] - 2s 39us/step - loss: 0.3488 - acc: 0.8900 - val_loss: 0.3191 - val_acc: 0.9001\n",
      "\n",
      "Epoch 00003: val_acc improved from 0.87915 to 0.90008, saving model to weights.best.hdf5\n",
      "— val_f1: 0.892977 — val_precision: 0.920319 — val_recall 0.869279\n",
      "Epoch 4/20\n",
      "51039/51039 [==============================] - 2s 39us/step - loss: 0.2886 - acc: 0.9075 - val_loss: 0.2896 - val_acc: 0.9081\n",
      "\n",
      "Epoch 00004: val_acc improved from 0.90008 to 0.90807, saving model to weights.best.hdf5\n",
      "— val_f1: 0.904010 — val_precision: 0.921741 — val_recall 0.887539\n",
      "Epoch 5/20\n",
      "51039/51039 [==============================] - 2s 39us/step - loss: 0.2542 - acc: 0.9190 - val_loss: 0.2737 - val_acc: 0.9090\n",
      "\n",
      "Epoch 00005: val_acc improved from 0.90807 to 0.90901, saving model to weights.best.hdf5\n",
      "— val_f1: 0.906860 — val_precision: 0.920457 — val_recall 0.895376\n",
      "Epoch 6/20\n",
      "51039/51039 [==============================] - 2s 40us/step - loss: 0.2291 - acc: 0.9262 - val_loss: 0.2611 - val_acc: 0.9123\n",
      "\n",
      "Epoch 00006: val_acc improved from 0.90901 to 0.91230, saving model to weights.best.hdf5\n",
      "— val_f1: 0.912031 — val_precision: 0.923103 — val_recall 0.901567\n",
      "Epoch 7/20\n",
      "51039/51039 [==============================] - 2s 40us/step - loss: 0.2104 - acc: 0.9322 - val_loss: 0.2554 - val_acc: 0.9139\n",
      "\n",
      "Epoch 00007: val_acc improved from 0.91230 to 0.91387, saving model to weights.best.hdf5\n",
      "— val_f1: 0.912359 — val_precision: 0.922052 — val_recall 0.903448\n",
      "Epoch 8/20\n",
      "51039/51039 [==============================] - 2s 39us/step - loss: 0.1927 - acc: 0.9383 - val_loss: 0.2504 - val_acc: 0.9148\n",
      "\n",
      "Epoch 00008: val_acc improved from 0.91387 to 0.91481, saving model to weights.best.hdf5\n",
      "— val_f1: 0.914663 — val_precision: 0.922842 — val_recall 0.907132\n",
      "Epoch 9/20\n",
      "51039/51039 [==============================] - 2s 38us/step - loss: 0.1792 - acc: 0.9426 - val_loss: 0.2467 - val_acc: 0.9152\n",
      "\n",
      "Epoch 00009: val_acc improved from 0.91481 to 0.91520, saving model to weights.best.hdf5\n",
      "— val_f1: 0.915551 — val_precision: 0.923813 — val_recall 0.907994\n",
      "Epoch 10/20\n",
      "51039/51039 [==============================] - 2s 39us/step - loss: 0.1659 - acc: 0.9465 - val_loss: 0.2483 - val_acc: 0.9150\n",
      "\n",
      "Epoch 00010: val_acc did not improve from 0.91520\n",
      "— val_f1: 0.914805 — val_precision: 0.922584 — val_recall 0.908307\n",
      "Epoch 11/20\n",
      "51039/51039 [==============================] - 2s 39us/step - loss: 0.1548 - acc: 0.9504 - val_loss: 0.2462 - val_acc: 0.9162\n",
      "\n",
      "Epoch 00011: val_acc improved from 0.91520 to 0.91622, saving model to weights.best.hdf5\n",
      "— val_f1: 0.915513 — val_precision: 0.921906 — val_recall 0.910031\n",
      "Epoch 12/20\n",
      "51039/51039 [==============================] - 2s 38us/step - loss: 0.1430 - acc: 0.9547 - val_loss: 0.2477 - val_acc: 0.9150\n",
      "\n",
      "Epoch 00012: val_acc did not improve from 0.91622\n",
      "— val_f1: 0.914921 — val_precision: 0.920719 — val_recall 0.909796\n",
      "Epoch 13/20\n",
      "51039/51039 [==============================] - 2s 38us/step - loss: 0.1326 - acc: 0.9576 - val_loss: 0.2500 - val_acc: 0.9150\n",
      "\n",
      "Epoch 00013: val_acc did not improve from 0.91622\n",
      "— val_f1: 0.914704 — val_precision: 0.920244 — val_recall 0.909796\n",
      "Epoch 14/20\n",
      "51039/51039 [==============================] - 2s 40us/step - loss: 0.1239 - acc: 0.9595 - val_loss: 0.2549 - val_acc: 0.9113\n",
      "\n",
      "Epoch 00014: val_acc did not improve from 0.91622\n",
      "— val_f1: 0.911818 — val_precision: 0.916689 — val_recall 0.907132\n",
      "Epoch 15/20\n",
      "51039/51039 [==============================] - 2s 39us/step - loss: 0.1161 - acc: 0.9632 - val_loss: 0.2573 - val_acc: 0.9124\n",
      "\n",
      "Epoch 00015: val_acc did not improve from 0.91622\n",
      "— val_f1: 0.912222 — val_precision: 0.917129 — val_recall 0.907602\n",
      "Epoch 16/20\n",
      "51039/51039 [==============================] - 2s 38us/step - loss: 0.1074 - acc: 0.9661 - val_loss: 0.2605 - val_acc: 0.9121\n",
      "\n",
      "Epoch 00016: val_acc did not improve from 0.91622\n",
      "— val_f1: 0.912431 — val_precision: 0.917166 — val_recall 0.907915\n",
      "Epoch 17/20\n",
      "51039/51039 [==============================] - 2s 39us/step - loss: 0.1001 - acc: 0.9682 - val_loss: 0.2644 - val_acc: 0.9127\n",
      "\n",
      "Epoch 00017: val_acc did not improve from 0.91622\n",
      "— val_f1: 0.912438 — val_precision: 0.916938 — val_recall 0.908229\n",
      "Epoch 18/20\n",
      "51039/51039 [==============================] - 2s 38us/step - loss: 0.0932 - acc: 0.9705 - val_loss: 0.2688 - val_acc: 0.9111\n",
      "\n",
      "Epoch 00018: val_acc did not improve from 0.91622\n",
      "— val_f1: 0.911470 — val_precision: 0.916215 — val_recall 0.907210\n",
      "Epoch 19/20\n",
      "51039/51039 [==============================] - 2s 38us/step - loss: 0.0868 - acc: 0.9732 - val_loss: 0.2781 - val_acc: 0.9100\n",
      "\n",
      "Epoch 00019: val_acc did not improve from 0.91622\n",
      "— val_f1: 0.909735 — val_precision: 0.913031 — val_recall 0.906583\n",
      "Epoch 20/20\n",
      "51039/51039 [==============================] - 2s 38us/step - loss: 0.0801 - acc: 0.9749 - val_loss: 0.2830 - val_acc: 0.9118\n",
      "\n",
      "Epoch 00020: val_acc did not improve from 0.91622\n",
      "— val_f1: 0.910840 — val_precision: 0.914611 — val_recall 0.907445\n"
     ]
    }
   ],
   "source": [
    "# Train and evaluate the model + saving best weights during training\n",
    "\n",
    "history = model.fit(\n",
    "    x_train_seq,\n",
    "    y_train_cat,\n",
    "    epochs=20,\n",
    "    batch_size=128,\n",
    "    verbose=1,\n",
    "    validation_data=(x_val_seq, y_val_cat),\n",
    "    callbacks=callbacks_list,\n",
    ")"
   ]
  },
  {
   "cell_type": "code",
   "execution_count": 35,
   "metadata": {
    "colab": {
     "base_uri": "https://localhost:8080/",
     "height": 585
    },
    "colab_type": "code",
    "id": "0mTBQBAjEC-3",
    "outputId": "c38e3113-1893-459f-9597-446584a21025"
   },
   "outputs": [
    {
     "data": {
      "image/png": "[encoded data removed]",
      "text/plain": [
       "<Figure size 432x288 with 1 Axes>"
      ]
     },
     "metadata": {
      "tags": []
     },
     "output_type": "display_data"
    },
    {
     "data": {
      "image/png": "[encoded data removed]",
      "text/plain": [
       "<Figure size 432x288 with 1 Axes>"
      ]
     },
     "metadata": {
      "tags": []
     },
     "output_type": "display_data"
    }
   ],
   "source": [
    "# summarize history for accuracy\n",
    "plt.plot(history.history['acc'])\n",
    "plt.plot(history.history['val_acc'])\n",
    "plt.title('model accuracy')\n",
    "plt.ylabel('accuracy')\n",
    "plt.xlabel('epoch')\n",
    "plt.legend(['train', 'val'], loc='upper left')\n",
    "plt.show()\n",
    "# summarize history for loss\n",
    "plt.plot(history.history['loss'])\n",
    "plt.plot(history.history['val_loss'])\n",
    "plt.title('model loss')\n",
    "plt.ylabel('loss')\n",
    "plt.xlabel('epoch')\n",
    "plt.legend(['train', 'val'], loc='upper left')\n",
    "plt.show()"
   ]
  },
  {
   "cell_type": "markdown",
   "metadata": {
    "colab_type": "text",
    "id": "JAZuemLzTl4D"
   },
   "source": [
    "Then we can load the best model and evaluate it on validation dataset."
   ]
  },
  {
   "cell_type": "code",
   "execution_count": null,
   "metadata": {
    "colab": {},
    "colab_type": "code",
    "id": "MQq1voBwFdr6"
   },
   "outputs": [],
   "source": [
    "# Load best weight model\n",
    "\n",
    "# load weights\n",
    "model.load_weights(\"weights.best.hdf5\")\n",
    "\n",
    "\n",
    "# Compile model (required to make predictions)\n",
    "model.compile(loss='categorical_crossentropy', optimizer=opt, metrics=['accuracy'])"
   ]
  },
  {
   "cell_type": "code",
   "execution_count": 37,
   "metadata": {
    "colab": {
     "base_uri": "https://localhost:8080/",
     "height": 512
    },
    "colab_type": "code",
    "id": "y12FhdaBEDBb",
    "outputId": "0010a3aa-0a4d-4ca3-c931-60bce8d5fda5"
   },
   "outputs": [
    {
     "name": "stdout",
     "output_type": "stream",
     "text": [
      "              precision    recall  f1-score   support\n",
      "\n",
      "           1       0.92      0.87      0.89      1924\n",
      "           2       0.96      0.98      0.97      2896\n",
      "           3       0.91      0.94      0.93      5709\n",
      "           4       0.86      0.82      0.84      2231\n",
      "\n",
      "    accuracy                           0.92     12760\n",
      "   macro avg       0.91      0.90      0.91     12760\n",
      "weighted avg       0.92      0.92      0.92     12760\n",
      "\n",
      "confusion matrix: \n",
      "\n",
      "F1-score: 0.916\n"
     ]
    },
    {
     "data": {
      "image/png": "[encoded data removed]",
      "text/plain": [
       "<Figure size 432x288 with 2 Axes>"
      ]
     },
     "metadata": {
      "tags": []
     },
     "output_type": "display_data"
    }
   ],
   "source": [
    "#Deep Learning Model evaluation\n",
    "from sklearn import metrics\n",
    "\n",
    "predicted_val_one_hot = model.predict(x_val_seq)\n",
    "predicted_val = predicted_val_one_hot.argmax(axis = 1)+1\n",
    "\n",
    "print(metrics.classification_report(y_val, predicted_val))\n",
    "print('confusion matrix: \\n')\n",
    "\n",
    "\n",
    "df_m = metrics.confusion_matrix(y_val, predicted_val)\n",
    "sn.set(font_scale=1)#for label size\n",
    "sn.heatmap(df_m, cmap='Oranges', annot=True)# font size\n",
    "print('F1-score: %.3f' % metrics.f1_score(y_val, predicted_val, average = 'weighted'))"
   ]
  },
  {
   "cell_type": "markdown",
   "metadata": {
    "colab_type": "text",
    "id": "QuiRuT0prfZL"
   },
   "source": [
    "The perfomance is not improved compared to LinearSVC. "
   ]
  },
  {
   "cell_type": "code",
   "execution_count": null,
   "metadata": {
    "colab": {},
    "colab_type": "code",
    "id": "0ANiFgHgFAiK"
   },
   "outputs": [],
   "source": [
    "# Predict on test data \n",
    "\n",
    "# Tokenize\n",
    "t = tokenizer.texts_to_sequences(x_full_test)\n",
    "x_t = pad_sequences(t, maxlen=MAX_SEQUENCE_LENGTH)\n",
    "\n",
    "# Predict\n",
    "predicted_one_hot = model.predict(x_t)\n",
    "predicted = predicted_one_hot.argmax(axis = 1)+1"
   ]
  },
  {
   "cell_type": "code",
   "execution_count": null,
   "metadata": {
    "colab": {},
    "colab_type": "code",
    "id": "8zAGPEyVHnmN"
   },
   "outputs": [],
   "source": [
    "# Save deeplearning predictions\n",
    "test_data['Label'] = predicted\n",
    "test_data.to_csv('test_labeled_DL.csv')"
   ]
  },
  {
   "cell_type": "markdown",
   "metadata": {
    "colab_type": "text",
    "id": "yzaNT9ayXg7r"
   },
   "source": [
    "All of these is a minimalist implementation of a machine learning workflow. Every part is subject to an opitimization."
   ]
  },
  {
   "cell_type": "markdown",
   "metadata": {
    "colab_type": "text",
    "id": "S7fwKgDIUMeu"
   },
   "source": [
    "By Imad El Hanafi https://imadelhanafi.com"
   ]
  },
  {
   "cell_type": "code",
   "execution_count": null,
   "metadata": {
    "colab": {},
    "colab_type": "code",
    "id": "oge0OHUYUO_f"
   },
   "outputs": [],
   "source": []
  }
 ],
 "metadata": {
  "accelerator": "GPU",
  "colab": {
   "collapsed_sections": [],
   "name": "Test_Ausrion-elhanafi.ipynb",
   "provenance": [],
   "toc_visible": true,
   "version": "0.3.2"
  },
  "kernelspec": {
   "display_name": "Python 3",
   "language": "python",
   "name": "python3"
  },
  "language_info": {
   "codemirror_mode": {
    "name": "ipython",
    "version": 3
   },
   "file_extension": ".py",
   "mimetype": "text/x-python",
   "name": "python",
   "nbconvert_exporter": "python",
   "pygments_lexer": "ipython3",
   "version": "3.7.3"
  }
 },
 "nbformat": 4,
 "nbformat_minor": 4
}
